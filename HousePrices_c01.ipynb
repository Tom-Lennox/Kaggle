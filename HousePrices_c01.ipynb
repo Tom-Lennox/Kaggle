{
  "nbformat": 4,
  "nbformat_minor": 0,
  "metadata": {
    "colab": {
      "name": "HousePrices_c01",
      "provenance": [],
      "collapsed_sections": [],
      "include_colab_link": true
    },
    "kernelspec": {
      "display_name": "Python 3",
      "name": "python3"
    }
  },
  "cells": [
    {
      "cell_type": "markdown",
      "metadata": {
        "id": "view-in-github",
        "colab_type": "text"
      },
      "source": [
        "<a href=\"https://colab.research.google.com/github/Tom-Lennox/Kaggle/blob/master/HousePrices_c01.ipynb\" target=\"_parent\"><img src=\"https://colab.research.google.com/assets/colab-badge.svg\" alt=\"Open In Colab\"/></a>"
      ]
    },
    {
      "cell_type": "code",
      "metadata": {
        "id": "g7awsi5NqD1r",
        "colab_type": "code",
        "colab": {}
      },
      "source": [
        "# title"
      ],
      "execution_count": 0,
      "outputs": []
    },
    {
      "cell_type": "code",
      "metadata": {
        "id": "Vx5YXYCHJNwU",
        "colab_type": "code",
        "outputId": "00e0cf07-0b58-4f76-9565-6a87a76a6e3e",
        "colab": {
          "base_uri": "https://localhost:8080/",
          "height": 632
        }
      },
      "source": [
        "# kaggle APIセット\n",
        "!pip install kaggle\n",
        "\n",
        "from googleapiclient.discovery import build\n",
        "import io, os\n",
        "from googleapiclient.http import MediaIoBaseDownload\n",
        "from google.colab import auth\n",
        "\n",
        "auth.authenticate_user()\n",
        "\n",
        "drive_service = build('drive', 'v3')\n",
        "results = drive_service.files().list(\n",
        "        q=\"name = 'kaggle.json'\", fields=\"files(id)\").execute()\n",
        "kaggle_api_key = results.get('files', [])\n",
        "\n",
        "filename = \"/content/.kaggle/kaggle.json\"\n",
        "os.makedirs(os.path.dirname(filename), exist_ok=True)\n",
        "\n",
        "request = drive_service.files().get_media(fileId=kaggle_api_key[0]['id'])\n",
        "fh = io.FileIO(filename, 'wb')\n",
        "downloader = MediaIoBaseDownload(fh, request)\n",
        "done = False\n",
        "while done is False:\n",
        "    status, done = downloader.next_chunk()\n",
        "    print(\"Download %d%%.\" % int(status.progress() * 100))\n",
        "os.chmod(filename, 600)\n",
        "# 「Download 100%.」と表示で成功。\n",
        "\n",
        "# [kaggle.json]を持参する。\n",
        "from google.colab import drive\n",
        "drive.mount('/content/drive')\n",
        "\n",
        "# jsonファイルを指定の場所に配置\n",
        "!cp /content/.kaggle/kaggle.json ~/.kaggle/kaggle.json\n",
        "\n",
        "# リスト見たい場合\n",
        "!kaggle datasets list\n",
        "\n",
        "# train, test等ダウンロード\n",
        "! kaggle competitions download house-prices-advanced-regression-techniques -p house-prices\n",
        "\n",
        "# ダウンロードしたらここに入る大体。\n",
        "!ls /content/house-prices"
      ],
      "execution_count": 0,
      "outputs": [
        {
          "output_type": "stream",
          "text": [
            "Requirement already satisfied: kaggle in /usr/local/lib/python3.6/dist-packages (1.5.6)\n",
            "Requirement already satisfied: requests in /usr/local/lib/python3.6/dist-packages (from kaggle) (2.21.0)\n",
            "Requirement already satisfied: tqdm in /usr/local/lib/python3.6/dist-packages (from kaggle) (4.28.1)\n",
            "Requirement already satisfied: python-dateutil in /usr/local/lib/python3.6/dist-packages (from kaggle) (2.8.1)\n",
            "Requirement already satisfied: certifi in /usr/local/lib/python3.6/dist-packages (from kaggle) (2019.11.28)\n",
            "Requirement already satisfied: six>=1.10 in /usr/local/lib/python3.6/dist-packages (from kaggle) (1.12.0)\n",
            "Requirement already satisfied: urllib3<1.25,>=1.21.1 in /usr/local/lib/python3.6/dist-packages (from kaggle) (1.24.3)\n",
            "Requirement already satisfied: python-slugify in /usr/local/lib/python3.6/dist-packages (from kaggle) (4.0.0)\n",
            "Requirement already satisfied: chardet<3.1.0,>=3.0.2 in /usr/local/lib/python3.6/dist-packages (from requests->kaggle) (3.0.4)\n",
            "Requirement already satisfied: idna<2.9,>=2.5 in /usr/local/lib/python3.6/dist-packages (from requests->kaggle) (2.8)\n",
            "Requirement already satisfied: text-unidecode>=1.3 in /usr/local/lib/python3.6/dist-packages (from python-slugify->kaggle) (1.3)\n",
            "Download 100%.\n",
            "Go to this URL in a browser: https://accounts.google.com/o/oauth2/auth?client_id=947318989803-6bn6qk8qdgf4n4g3pfee6491hc0brc4i.apps.googleusercontent.com&redirect_uri=urn%3aietf%3awg%3aoauth%3a2.0%3aoob&response_type=code&scope=email%20https%3a%2f%2fwww.googleapis.com%2fauth%2fdocs.test%20https%3a%2f%2fwww.googleapis.com%2fauth%2fdrive%20https%3a%2f%2fwww.googleapis.com%2fauth%2fdrive.photos.readonly%20https%3a%2f%2fwww.googleapis.com%2fauth%2fpeopleapi.readonly\n",
            "\n",
            "Enter your authorization code:\n",
            "··········\n",
            "Mounted at /content/drive\n",
            "cp: cannot create regular file '/root/.kaggle/kaggle.json': No such file or directory\n",
            "Traceback (most recent call last):\n",
            "  File \"/usr/local/bin/kaggle\", line 5, in <module>\n",
            "    from kaggle.cli import main\n",
            "  File \"/usr/local/lib/python2.7/dist-packages/kaggle/__init__.py\", line 23, in <module>\n",
            "    api.authenticate()\n",
            "  File \"/usr/local/lib/python2.7/dist-packages/kaggle/api/kaggle_api_extended.py\", line 146, in authenticate\n",
            "    self.config_file, self.config_dir))\n",
            "IOError: Could not find kaggle.json. Make sure it's located in /root/.kaggle. Or use the environment method.\n",
            "Traceback (most recent call last):\n",
            "  File \"/usr/local/bin/kaggle\", line 5, in <module>\n",
            "    from kaggle.cli import main\n",
            "  File \"/usr/local/lib/python2.7/dist-packages/kaggle/__init__.py\", line 23, in <module>\n",
            "    api.authenticate()\n",
            "  File \"/usr/local/lib/python2.7/dist-packages/kaggle/api/kaggle_api_extended.py\", line 146, in authenticate\n",
            "    self.config_file, self.config_dir))\n",
            "IOError: Could not find kaggle.json. Make sure it's located in /root/.kaggle. Or use the environment method.\n",
            "ls: cannot access '/content/house-prices': No such file or directory\n"
          ],
          "name": "stdout"
        }
      ]
    },
    {
      "cell_type": "code",
      "metadata": {
        "id": "CQqJns37qPRL",
        "colab_type": "code",
        "outputId": "7db83004-7960-45da-eb10-cfb38f3af79a",
        "colab": {
          "base_uri": "https://localhost:8080/",
          "height": 255
        }
      },
      "source": [
        "# jsonファイルを指定の場所に配置\n",
        "!cp /content/.kaggle/kaggle.json ~/.kaggle/kaggle.json\n",
        "\n",
        "# リスト見たい場合\n",
        "# !kaggle datasets list\n",
        "\n",
        "# train, test等ダウンロード\n",
        "! kaggle competitions download house-prices-advanced-regression-techniques -p house-prices\n",
        "\n",
        "# ダウンロードしたらここに入る大体。\n",
        "!ls /content/house-prices"
      ],
      "execution_count": 0,
      "outputs": [
        {
          "output_type": "stream",
          "text": [
            "Warning: Looks like you're using an outdated API Version, please consider updating (server 1.5.6 / client 1.5.4)\n",
            "Downloading data_description.txt to house-prices\n",
            "  0% 0.00/13.1k [00:00<?, ?B/s]\n",
            "100% 13.1k/13.1k [00:00<00:00, 9.82MB/s]\n",
            "Downloading sample_submission.csv to house-prices\n",
            "  0% 0.00/31.2k [00:00<?, ?B/s]\n",
            "100% 31.2k/31.2k [00:00<00:00, 32.3MB/s]\n",
            "Downloading test.csv to house-prices\n",
            "  0% 0.00/441k [00:00<?, ?B/s]\n",
            "100% 441k/441k [00:00<00:00, 61.6MB/s]\n",
            "Downloading train.csv to house-prices\n",
            "  0% 0.00/450k [00:00<?, ?B/s]\n",
            "100% 450k/450k [00:00<00:00, 61.7MB/s]\n",
            "data_description.txt  sample_submission.csv  test.csv  train.csv\n"
          ],
          "name": "stdout"
        }
      ]
    },
    {
      "cell_type": "code",
      "metadata": {
        "id": "1AwAmO49fjot",
        "colab_type": "code",
        "outputId": "9156d153-048c-4f22-d752-f3ca1c84136d",
        "colab": {
          "base_uri": "https://localhost:8080/",
          "height": 913
        }
      },
      "source": [
        "import pandas as pd\n",
        "import numpy as np\n",
        "from sklearn.ensemble import RandomForestClassifier\n",
        "\n",
        "# とりあえずファイルを読み込む\n",
        "train = pd.read_csv(\"/content/house-prices/train.csv\")\n",
        "test = pd.read_csv(\"/content/house-prices/test.csv\")\n",
        "\n",
        "# \n",
        "# 配列の大きさを確認したい。\n",
        "train['WhatIsData'] = 'Train'\n",
        "test['WhatIsData'] = 'Test'\n",
        "test['SalePrice'] = 9999999999\n",
        "alldata = pd.concat([train,test],axis=0).reset_index(drop=True)\n",
        "print('The size of train is : ' + str(train.shape))\n",
        "print('The size of test is : ' + str(test.shape))\n",
        "# \n",
        "\n",
        "train[\"SalePrice\"].describe()\n",
        "# mean, 50%等見て正規分布か確認。\n",
        "# 下記で良いのでは？\n",
        "\n",
        "import numpy as np\n",
        "import pandas as pd\n",
        "from matplotlib import pyplot as plt\n",
        "import seaborn as sns\n",
        "from sklearn.preprocessing import PowerTransformer\n",
        "\n",
        "# .\n",
        "# グラフ描画\n",
        "plt.figure(figsize=(10,5))\n",
        "sns.distplot(train['SalePrice'])\n",
        "# \n",
        "\n",
        "# .\n",
        "# 歪度と尖度を計算\n",
        "print(\"歪度: %f\" % train['SalePrice'].skew())\n",
        "print(\"尖度: %f\" % train['SalePrice'].kurt())\n",
        "# \n",
        "\n",
        "test_x = pd.read_csv(\"/content/house-prices/test.csv\")\n",
        "#物件の広さを合計した変数を作成\n",
        "train[\"TotalSF\"] = train[\"1stFlrSF\"] + train[\"2ndFlrSF\"] + train[\"TotalBsmtSF\"]\n",
        "test_x[\"TotalSF\"] = test_x[\"1stFlrSF\"] + test_x[\"2ndFlrSF\"] + test_x[\"TotalBsmtSF\"]\n",
        "\n",
        "# 散布図\n",
        "# // なぜ散布図なのか？等の疑問を持つべき。\n",
        "plt.figure(figsize=(10, 5))\n",
        "plt.scatter(train[\"TotalSF\"],train[\"SalePrice\"])\n",
        "plt.xlabel(\"TotalSF\")\n",
        "plt.ylabel(\"SalePrice\")\n",
        "# "
      ],
      "execution_count": 11,
      "outputs": [
        {
          "output_type": "stream",
          "text": [
            "The size of train is : (1460, 82)\n",
            "The size of test is : (1459, 82)\n",
            "歪度: 1.882876\n",
            "尖度: 6.536282\n"
          ],
          "name": "stdout"
        },
        {
          "output_type": "stream",
          "text": [
            "/usr/local/lib/python3.6/dist-packages/ipykernel_launcher.py:14: FutureWarning: Sorting because non-concatenation axis is not aligned. A future version\n",
            "of pandas will change to not sort by default.\n",
            "\n",
            "To accept the future behavior, pass 'sort=False'.\n",
            "\n",
            "To retain the current behavior and silence the warning, pass 'sort=True'.\n",
            "\n",
            "  \n"
          ],
          "name": "stderr"
        },
        {
          "output_type": "execute_result",
          "data": {
            "text/plain": [
              "Text(0, 0.5, 'SalePrice')"
            ]
          },
          "metadata": {
            "tags": []
          },
          "execution_count": 11
        },
        {
          "output_type": "display_data",
          "data": {
            "image/png": "[encoded data removed]",
            "text/plain": [
              "<Figure size 720x360 with 1 Axes>"
            ]
          },
          "metadata": {
            "tags": []
          }
        },
        {
          "output_type": "display_data",
          "data": {
            "image/png": "[encoded data removed]",
            "text/plain": [
              "<Figure size 720x360 with 1 Axes>"
            ]
          },
          "metadata": {
            "tags": []
          }
        }
      ]
    },
    {
      "cell_type": "code",
      "metadata": {
        "id": "k-SeKUYnkPVp",
        "colab_type": "code",
        "colab": {
          "base_uri": "https://localhost:8080/",
          "height": 230
        },
        "outputId": "5b3e3469-201a-4360-9640-2033b113bb88"
      },
      "source": [
        "train[\"TotalSF\"]\n",
        "# train[\"SalePrice\"]"
      ],
      "execution_count": 16,
      "outputs": [
        {
          "output_type": "execute_result",
          "data": {
            "text/plain": [
              "0       2566\n",
              "1       2524\n",
              "2       2706\n",
              "3       2473\n",
              "4       3343\n",
              "        ... \n",
              "1455    2600\n",
              "1456    3615\n",
              "1457    3492\n",
              "1458    2156\n",
              "1459    2512\n",
              "Name: TotalSF, Length: 1460, dtype: int64"
            ]
          },
          "metadata": {
            "tags": []
          },
          "execution_count": 16
        }
      ]
    },
    {
      "cell_type": "code",
      "metadata": {
        "id": "HqXuJYbJCsxr",
        "colab_type": "code",
        "outputId": "d98ede6e-bf8e-42ed-892c-66440e4e1ab7",
        "colab": {
          "base_uri": "https://localhost:8080/",
          "height": 492
        }
      },
      "source": [
        "# グラフ\n",
        "sns.distplot(train['TotalSF'])\n",
        "train[\"SalePrice\"]\n",
        "\n",
        "data = train['TotalSF']\n",
        "# 【閑話】distplotで確率を求めたい場合（I mean デフォルトでy軸何表しているのかわからん。）\n",
        "sns.distplot(data, kde=False, norm_hist=True, bins=100)\n",
        "\n",
        "weights = np.ones_like(np.array(data))/float(len(np.array(data)))\n",
        "plt.hist(data, weights=weights, bins = 100)\n",
        "\n",
        "# l = [1, 3, 2, 1, 3]\n",
        "l = data\n",
        "weights = np.ones_like(np.array(l))/float(len(np.array(l)))\n",
        "plt.hist(l, weights=weights, bins = 30)\n",
        "# https://www.it-swarm.dev/ja/python/seaborn-distplotのy軸とは何ですか？/805905292/"
      ],
      "execution_count": 21,
      "outputs": [
        {
          "output_type": "execute_result",
          "data": {
            "text/plain": [
              "(array([0.00068493, 0.01643836, 0.02534247, 0.13767123, 0.19726027,\n",
              "        0.19794521, 0.17123288, 0.11369863, 0.07191781, 0.03150685,\n",
              "        0.01986301, 0.00753425, 0.00410959, 0.00136986, 0.        ,\n",
              "        0.        , 0.00136986, 0.00068493, 0.        , 0.00068493,\n",
              "        0.        , 0.        , 0.        , 0.        , 0.        ,\n",
              "        0.        , 0.        , 0.        , 0.        , 0.00068493]),\n",
              " array([  334. ,   714.6,  1095.2,  1475.8,  1856.4,  2237. ,  2617.6,\n",
              "         2998.2,  3378.8,  3759.4,  4140. ,  4520.6,  4901.2,  5281.8,\n",
              "         5662.4,  6043. ,  6423.6,  6804.2,  7184.8,  7565.4,  7946. ,\n",
              "         8326.6,  8707.2,  9087.8,  9468.4,  9849. , 10229.6, 10610.2,\n",
              "        10990.8, 11371.4, 11752. ]),\n",
              " <a list of 30 Patch objects>)"
            ]
          },
          "metadata": {
            "tags": []
          },
          "execution_count": 21
        },
        {
          "output_type": "display_data",
          "data": {
            "image/png": "[encoded data removed]",
            "text/plain": [
              "<Figure size 432x288 with 1 Axes>"
            ]
          },
          "metadata": {
            "tags": []
          }
        }
      ]
    }
  ]
}