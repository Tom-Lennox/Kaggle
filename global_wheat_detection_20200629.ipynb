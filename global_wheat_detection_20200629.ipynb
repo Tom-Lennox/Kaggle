{
  "nbformat": 4,
  "nbformat_minor": 0,
  "metadata": {
    "colab": {
      "name": "global-wheat-detection_20200629.ipynb",
      "provenance": [],
      "collapsed_sections": [],
      "mount_file_id": "1AEBBko5ULyUJJ7dtUJLSc5BVOFiXbve2",
      "authorship_tag": "ABX9TyNPA+Qz2Ib1QR1yCfVw6Prs",
      "include_colab_link": true
    },
    "kernelspec": {
      "name": "python3",
      "display_name": "Python 3"
    }
  },
  "cells": [
    {
      "cell_type": "markdown",
      "metadata": {
        "id": "view-in-github",
        "colab_type": "text"
      },
      "source": [
        "<a href=\"https://colab.research.google.com/github/Tom-Lennox/Kaggle/blob/master/global_wheat_detection_20200629.ipynb\" target=\"_parent\"><img src=\"https://colab.research.google.com/assets/colab-badge.svg\" alt=\"Open In Colab\"/></a>"
      ]
    },
    {
      "cell_type": "code",
      "metadata": {
        "id": "XhLISUw8Niyk",
        "colab_type": "code",
        "colab": {}
      },
      "source": [
        "# 【行ったこと】\n",
        "\n",
        "# ▼ Google Drive Mount ⇒ 左ペイン - （icon mark） - ドライブのマウント"
      ],
      "execution_count": null,
      "outputs": []
    },
    {
      "cell_type": "code",
      "metadata": {
        "id": "ihB8ZMaXXx5c",
        "colab_type": "code",
        "colab": {
          "base_uri": "https://localhost:8080/",
          "height": 943
        },
        "outputId": "fd31f5e1-8562-43d5-eec1-dd4cc4ff1110"
      },
      "source": [
        ""
      ],
      "execution_count": 1,
      "outputs": [
        {
          "output_type": "stream",
          "text": [
            "Requirement already satisfied: kaggle in /usr/local/lib/python3.6/dist-packages (1.5.6)\n",
            "Requirement already satisfied: python-slugify in /usr/local/lib/python3.6/dist-packages (from kaggle) (4.0.0)\n",
            "Requirement already satisfied: tqdm in /usr/local/lib/python3.6/dist-packages (from kaggle) (4.41.1)\n",
            "Requirement already satisfied: python-dateutil in /usr/local/lib/python3.6/dist-packages (from kaggle) (2.8.1)\n",
            "Requirement already satisfied: six>=1.10 in /usr/local/lib/python3.6/dist-packages (from kaggle) (1.12.0)\n",
            "Requirement already satisfied: certifi in /usr/local/lib/python3.6/dist-packages (from kaggle) (2020.6.20)\n",
            "Requirement already satisfied: urllib3<1.25,>=1.21.1 in /usr/local/lib/python3.6/dist-packages (from kaggle) (1.24.3)\n",
            "Requirement already satisfied: requests in /usr/local/lib/python3.6/dist-packages (from kaggle) (2.23.0)\n",
            "Requirement already satisfied: text-unidecode>=1.3 in /usr/local/lib/python3.6/dist-packages (from python-slugify->kaggle) (1.3)\n",
            "Requirement already satisfied: idna<3,>=2.5 in /usr/local/lib/python3.6/dist-packages (from requests->kaggle) (2.9)\n",
            "Requirement already satisfied: chardet<4,>=3.0.2 in /usr/local/lib/python3.6/dist-packages (from requests->kaggle) (3.0.4)\n",
            "Download 100%.\n",
            "Go to this URL in a browser: https://accounts.google.com/o/oauth2/auth?client_id=947318989803-6bn6qk8qdgf4n4g3pfee6491hc0brc4i.apps.googleusercontent.com&redirect_uri=urn%3aietf%3awg%3aoauth%3a2.0%3aoob&response_type=code&scope=email%20https%3a%2f%2fwww.googleapis.com%2fauth%2fdocs.test%20https%3a%2f%2fwww.googleapis.com%2fauth%2fdrive%20https%3a%2f%2fwww.googleapis.com%2fauth%2fdrive.photos.readonly%20https%3a%2f%2fwww.googleapis.com%2fauth%2fpeopleapi.readonly\n",
            "\n",
            "Enter your authorization code:\n",
            "··········\n",
            "Mounted at /content/drive\n",
            "cp: cannot create regular file '/root/.kaggle/kaggle.json': No such file or directory\n",
            "Traceback (most recent call last):\n",
            "  File \"/usr/local/bin/kaggle\", line 5, in <module>\n",
            "    from kaggle.cli import main\n",
            "  File \"/usr/local/lib/python2.7/dist-packages/kaggle/__init__.py\", line 23, in <module>\n",
            "    api.authenticate()\n",
            "  File \"/usr/local/lib/python2.7/dist-packages/kaggle/api/kaggle_api_extended.py\", line 146, in authenticate\n",
            "    self.config_file, self.config_dir))\n",
            "IOError: Could not find kaggle.json. Make sure it's located in /root/.kaggle. Or use the environment method.\n",
            "Warning: Looks like you're using an outdated API Version, please consider updating (server 1.5.6 / client 1.5.4)\n",
            "Downloading test.csv.zip to /content\n",
            " 74% 33.0M/44.4M [00:01<00:00, 16.3MB/s]\n",
            "100% 44.4M/44.4M [00:01<00:00, 34.1MB/s]\n",
            "Downloading sample_submission.csv.zip to /content\n",
            "  0% 0.00/2.12M [00:00<?, ?B/s]\n",
            "100% 2.12M/2.12M [00:00<00:00, 69.6MB/s]\n",
            "Downloading train.csv.zip to /content\n",
            " 83% 25.0M/30.0M [00:00<00:00, 20.8MB/s]\n",
            "100% 30.0M/30.0M [00:00<00:00, 36.3MB/s]\n",
            "adc.json  sample_data\t\t     test.csv.zip\n",
            "drive\t  sample_submission.csv.zip  train.csv.zip\n",
            "Archive:  sample_submission.csv.zip\n",
            "  inflating: sample_submission.csv   \n",
            "\n",
            "Archive:  test.csv.zip\n",
            "  inflating: test.csv                \n",
            "\n",
            "Archive:  train.csv.zip\n",
            "  inflating: train.csv               \n",
            "\n",
            "3 archives were successfully processed.\n",
            "adc.json     sample_submission.csv\ttest.csv.zip\n",
            "drive\t     sample_submission.csv.zip\ttrain.csv\n",
            "sample_data  test.csv\t\t\ttrain.csv.zip\n"
          ],
          "name": "stdout"
        }
      ]
    },
    {
      "cell_type": "code",
      "metadata": {
        "id": "GerDoEsjk9nm",
        "colab_type": "code",
        "colab": {
          "base_uri": "https://localhost:8080/",
          "height": 1000
        },
        "outputId": "8db880b2-8eda-4ec0-c5c7-429f74ad23df"
      },
      "source": [
        "# ! kaggle competitions download -c global-wheat-detection\n",
        "# !ls\n",
        "\n",
        "# !unzip '*.zip'\n",
        "# !ls"
      ],
      "execution_count": 4,
      "outputs": [
        {
          "output_type": "stream",
          "text": [
            "Warning: Looks like you're using an outdated API Version, please consider updating (server 1.5.6 / client 1.5.4)\n",
            "Downloading 01397a84c.jpg to /content\n",
            "  0% 0.00/156k [00:00<?, ?B/s]\n",
            "100% 156k/156k [00:00<00:00, 47.9MB/s]\n",
            "Downloading 01189a3c3.jpg to /content\n",
            "  0% 0.00/260k [00:00<?, ?B/s]\n",
            "100% 260k/260k [00:00<00:00, 85.7MB/s]\n",
            "Downloading 015939012.jpg to /content\n",
            "  0% 0.00/132k [00:00<?, ?B/s]\n",
            "100% 132k/132k [00:00<00:00, 39.6MB/s]\n",
            "Downloading 010c93b99.jpg to /content\n",
            "  0% 0.00/126k [00:00<?, ?B/s]\n",
            "100% 126k/126k [00:00<00:00, 121MB/s]\n",
            "Downloading 00764ad5d.jpg to /content\n",
            "  0% 0.00/135k [00:00<?, ?B/s]\n",
            "100% 135k/135k [00:00<00:00, 47.3MB/s]\n",
            "Downloading 00b5c6764.jpg to /content\n",
            "  0% 0.00/173k [00:00<?, ?B/s]\n",
            "100% 173k/173k [00:00<00:00, 58.4MB/s]\n",
            "Downloading 010dbcc8f.jpg to /content\n",
            "  0% 0.00/107k [00:00<?, ?B/s]\n",
            "100% 107k/107k [00:00<00:00, 96.6MB/s]\n",
            "Downloading 006a994f7.jpg to /content\n",
            "  0% 0.00/110k [00:00<?, ?B/s]\n",
            "100% 110k/110k [00:00<00:00, 94.1MB/s]\n",
            "Downloading 0114c88aa.jpg to /content\n",
            "  0% 0.00/198k [00:00<?, ?B/s]\n",
            "100% 198k/198k [00:00<00:00, 62.0MB/s]\n",
            "Downloading 013fd7d80.jpg to /content\n",
            "  0% 0.00/141k [00:00<?, ?B/s]\n",
            "100% 141k/141k [00:00<00:00, 46.4MB/s]\n",
            "Downloading 00ea5e5ee.jpg to /content\n",
            "  0% 0.00/179k [00:00<?, ?B/s]\n",
            "100% 179k/179k [00:00<00:00, 55.6MB/s]\n",
            "Downloading 013669953.jpg to /content\n",
            "  0% 0.00/212k [00:00<?, ?B/s]\n",
            "100% 212k/212k [00:00<00:00, 66.4MB/s]\n",
            "Downloading 010b216d4.jpg to /content\n",
            "  0% 0.00/189k [00:00<?, ?B/s]\n",
            "100% 189k/189k [00:00<00:00, 62.5MB/s]\n",
            "Downloading 00333207f.jpg to /content\n",
            "  0% 0.00/255k [00:00<?, ?B/s]\n",
            "100% 255k/255k [00:00<00:00, 70.8MB/s]\n",
            "Downloading 005b0d8bb.jpg to /content\n",
            "  0% 0.00/142k [00:00<?, ?B/s]\n",
            "100% 142k/142k [00:00<00:00, 45.0MB/s]\n",
            "Downloading 00b70a919.jpg to /content\n",
            "  0% 0.00/137k [00:00<?, ?B/s]\n",
            "100% 137k/137k [00:00<00:00, 118MB/s]\n",
            "Downloading 0172359d2.jpg to /content\n",
            "  0% 0.00/309k [00:00<?, ?B/s]\n",
            "100% 309k/309k [00:00<00:00, 96.0MB/s]\n",
            "Downloading 00b5fefed.jpg to /content\n",
            "  0% 0.00/130k [00:00<?, ?B/s]\n",
            "100% 130k/130k [00:00<00:00, 39.7MB/s]\n",
            "Downloading 00e903abe.jpg to /content\n",
            "  0% 0.00/300k [00:00<?, ?B/s]\n",
            "100% 300k/300k [00:00<00:00, 94.3MB/s]\n",
            "Downloading 0126b7d11.jpg to /content\n",
            "  0% 0.00/237k [00:00<?, ?B/s]\n",
            "100% 237k/237k [00:00<00:00, 77.5MB/s]\n",
            "Downloading 796707dd7.jpg to /content\n",
            "  0% 0.00/180k [00:00<?, ?B/s]\n",
            "100% 180k/180k [00:00<00:00, 59.3MB/s]\n",
            "Downloading cb8d261a3.jpg to /content\n",
            "  0% 0.00/140k [00:00<?, ?B/s]\n",
            "100% 140k/140k [00:00<00:00, 48.2MB/s]\n",
            "Downloading 51b3e36ab.jpg to /content\n",
            "  0% 0.00/188k [00:00<?, ?B/s]\n",
            "100% 188k/188k [00:00<00:00, 59.4MB/s]\n",
            "Downloading 51f1be19e.jpg to /content\n",
            "  0% 0.00/252k [00:00<?, ?B/s]\n",
            "100% 252k/252k [00:00<00:00, 80.1MB/s]\n",
            "Downloading cc3532ff6.jpg to /content\n",
            "  0% 0.00/190k [00:00<?, ?B/s]\n",
            "100% 190k/190k [00:00<00:00, 60.9MB/s]\n",
            "Downloading 53f253011.jpg to /content\n",
            "  0% 0.00/169k [00:00<?, ?B/s]\n",
            "100% 169k/169k [00:00<00:00, 53.8MB/s]\n",
            "Downloading 348a992bb.jpg to /content\n",
            "  0% 0.00/176k [00:00<?, ?B/s]\n",
            "100% 176k/176k [00:00<00:00, 149MB/s]\n",
            "Downloading f5a1f0358.jpg to /content\n",
            "  0% 0.00/187k [00:00<?, ?B/s]\n",
            "100% 187k/187k [00:00<00:00, 60.9MB/s]\n",
            "Downloading aac893a91.jpg to /content\n",
            "  0% 0.00/214k [00:00<?, ?B/s]\n",
            "100% 214k/214k [00:00<00:00, 70.8MB/s]\n",
            "Downloading 2fd875eaa.jpg to /content\n",
            "  0% 0.00/144k [00:00<?, ?B/s]\n",
            "100% 144k/144k [00:00<00:00, 42.6MB/s]\n",
            "train.csv.zip: Skipping, found more recently modified local copy (use --force to force download)\n",
            "Downloading sample_submission.csv to /content\n",
            "  0% 0.00/266 [00:00<?, ?B/s]\n",
            "100% 266/266 [00:00<00:00, 83.9kB/s]\n"
          ],
          "name": "stdout"
        }
      ]
    },
    {
      "cell_type": "code",
      "metadata": {
        "id": "2C6LxvInmePs",
        "colab_type": "code",
        "colab": {
          "base_uri": "https://localhost:8080/",
          "height": 194
        },
        "outputId": "ffcd3d8b-5bc2-4e7e-c28a-2e349c2f4442"
      },
      "source": [
        "!ls"
      ],
      "execution_count": 5,
      "outputs": [
        {
          "output_type": "stream",
          "text": [
            "00333207f.jpg  010c93b99.jpg  2fd875eaa.jpg  drive\n",
            "005b0d8bb.jpg  010dbcc8f.jpg  348a992bb.jpg  f5a1f0358.jpg\n",
            "006a994f7.jpg  0114c88aa.jpg  51b3e36ab.jpg  sample_data\n",
            "00764ad5d.jpg  01189a3c3.jpg  51f1be19e.jpg  sample_submission.csv\n",
            "00b5c6764.jpg  0126b7d11.jpg  53f253011.jpg  sample_submission.csv.zip\n",
            "00b5fefed.jpg  013669953.jpg  796707dd7.jpg  test.csv\n",
            "00b70a919.jpg  01397a84c.jpg  aac893a91.jpg  test.csv.zip\n",
            "00e903abe.jpg  013fd7d80.jpg  adc.json\t     train.csv\n",
            "00ea5e5ee.jpg  015939012.jpg  cb8d261a3.jpg  train.csv.zip\n",
            "010b216d4.jpg  0172359d2.jpg  cc3532ff6.jpg\n"
          ],
          "name": "stdout"
        }
      ]
    },
    {
      "cell_type": "code",
      "metadata": {
        "id": "dmbcTD-QXzJp",
        "colab_type": "code",
        "colab": {
          "base_uri": "https://localhost:8080/",
          "height": 321
        },
        "outputId": "5af20191-756f-446c-a5d1-5ab32c612126"
      },
      "source": [
        "import pandas as pd\n",
        "import numpy as np\n",
        "\n",
        "from logging import getLogger\n",
        "\n",
        "TRAIN_DATA = './train.csv'\n",
        "TEST_DATA =  './test.csv'\n",
        "\n",
        "logger = getLogger(__name__)\n",
        "\n",
        "def read_csv(path):\n",
        "  logger.debug('enter')\n",
        "  logger.debug('exit')\n",
        "  return df\n",
        "\n",
        "def load_train_data():\n",
        "  logger.debug('enter')\n",
        "  df = pd.read_csv(TRAIN_DATA)\n",
        "  logger.debug('exit')\n",
        "  return df\n",
        "\n",
        "def load_test_data():\n",
        "  logger.debug('enter')\n",
        "  df = pd.read_csv(TEST_DATA)\n",
        "  logger.debug('exit')\n",
        "  return df\n",
        "\n",
        "if __name__ == '__main__':\n",
        "  print(load_train_data().head())\n",
        "  print(load_test_data().head())\n",
        "  # print(load_train_data().info())\n",
        "  # print(load_test_data().info())"
      ],
      "execution_count": 6,
      "outputs": [
        {
          "output_type": "stream",
          "text": [
            "   id  target  ps_ind_01  ...  ps_calc_18_bin  ps_calc_19_bin  ps_calc_20_bin\n",
            "0   7       0          2  ...               0               0               1\n",
            "1   9       0          1  ...               0               1               0\n",
            "2  13       0          5  ...               0               1               0\n",
            "3  16       0          0  ...               0               0               0\n",
            "4  17       0          0  ...               1               1               0\n",
            "\n",
            "[5 rows x 59 columns]\n",
            "   id  ps_ind_01  ps_ind_02_cat  ...  ps_calc_18_bin  ps_calc_19_bin  ps_calc_20_bin\n",
            "0   0          0              1  ...               0               0               1\n",
            "1   1          4              2  ...               1               0               1\n",
            "2   2          5              1  ...               0               0               0\n",
            "3   3          0              1  ...               0               0               0\n",
            "4   4          5              1  ...               0               0               1\n",
            "\n",
            "[5 rows x 58 columns]\n"
          ],
          "name": "stdout"
        }
      ]
    },
    {
      "cell_type": "code",
      "metadata": {
        "id": "ua6ifTlJZ4Vh",
        "colab_type": "code",
        "colab": {}
      },
      "source": [
        "import logging\n",
        "# 書き方は、https://docs.python.jp/3/library/logging.html#logrecord-attributes を参照のこと。\n",
        "_detail_formatting = \"%(relativeCreated)08d[ms] - %(name)s - %(levelname)s - %(processName)-10s - %(threadName)s -\\n*** %(message)s\"\n",
        "\n",
        "# まずはファイルの設定 logは詳細に取りたい\n",
        "logging.basicConfig(\n",
        "    level=logging.DEBUG,\n",
        "    format=_detail_formatting, # 出力のformatも変えられる\n",
        "    filename=\"./sample.log\", # logファイルのありか\n",
        ")\n",
        "\n",
        "# つづいて、sys.stderrのloggerの設定\n",
        "# http://docs.python-guide.org/en/latest/writing/logging/#example-configuration-directly-in-code も参考になる\n",
        "\n",
        "# log出力先をsys.stderrに\n",
        "console = logging.StreamHandler()\n",
        "# 個別にformatの形式を変えられる\n",
        "console_formatter = logging.Formatter(\"%(relativeCreated)07d[ms] : %(name)s : %(message)s\")\n",
        "console.setFormatter(console_formatter)\n",
        "# sys.stderrにはざっくりとしたerror情報で良いので、INFOとする\n",
        "console.setLevel(logging.INFO)\n",
        "# consoleという設定logging設定ができたので、適用したいmoduleに対して、addHandlerにその設定を突っ込む\n",
        "logging.getLogger(\"my_pac.mod01\").addHandler(console)\n",
        "# 複数のモジュールでlogを出したい場合はこうする(`複数のモジュールでlogを出したい`の例の通り)\n",
        "# logging.getLogger(\"my_pac.mod02\").addHandler(console)"
      ],
      "execution_count": 5,
      "outputs": []
    },
    {
      "cell_type": "code",
      "metadata": {
        "id": "CWi6rcUuZ7Dc",
        "colab_type": "code",
        "colab": {}
      },
      "source": [
        "あああif __name__ == '__main__':\n",
        "  log_fmt = Formatter('%(asctime)s %(name)s %(lineno)d [%(levelname)s][%(funcName)s] %(message)s ')\n",
        "  handler = StreamHandler()\n",
        "  handler.setLevel('INFO')\n",
        "  handler.setFormatter(log_fmt)\n",
        "  logger.addHandler(handler)\n",
        "  # logの出力は任意、StreamHandler()を流す\n",
        "  # 標準出力：INFO　Level 以上\n",
        "  # ファイル出力：debug level 以上\n",
        "\n",
        "  handler = FileHandler(DIR + 'train.py.log', 'a')\n",
        "  handler.setLevel(DEBUG)\n",
        "  handler.setFormatter(log_fmt)\n",
        "  logger.setLevel(DEBUG)\n",
        "  logger.addHandler(handler)\n",
        "\n",
        "  logger.info('start')\n",
        "  #logを取るメリット：セクション間の実行時間がわかる。」\n",
        "  df = load_train_data()\n",
        "\n",
        "  x_train = df.drop('target', axis=1)\n",
        "  # targetはdataに入ると過学習になる。\n",
        "  y_train = df['target'].values\n",
        "  # valuesにするとpdからnp配列になる。\n",
        "  use_cols = x_train.columns.values\n",
        "  # 並び順固定\n",
        "  logger.debug('train columns: {} {}'.format(use_cols.shape, use_cols))\n",
        "  logger.info('data preparation end {}'.format(x_train.shape))\n",
        "\n",
        "  clf = LogisticRegression(random_state=0)\n",
        "  clf.fit(x_train, y_train)\n",
        "\n",
        "  logger.info('train end')\n",
        "\n",
        "  df = load_test_data()\n",
        "\n",
        "  x_test = df[use_cols].sort_values('id')\n",
        "  # + 念の為sort\n",
        "  logger.info('test data load end {}'.format(x_test.shape))\n",
        "  pred_test = clf.predict_proba(x_test)\n",
        "\n",
        "  df_submit = pd.read_csv(SAMPLE_SUBMIT_FILE).sort_values('id')\n",
        "  df_submit['target'] = pred_test\n",
        "\n",
        "  df_submit.to_csv(DIR + 'submit.csv')\n",
        "# ▲ 1_簡単なsubmit"
      ],
      "execution_count": null,
      "outputs": []
    }
  ]
}