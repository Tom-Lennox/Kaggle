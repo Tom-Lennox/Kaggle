{
  "nbformat": 4,
  "nbformat_minor": 0,
  "metadata": {
    "colab": {
      "name": "Pytorch_20200714",
      "provenance": [],
      "collapsed_sections": [],
      "mount_file_id": "1Nr_9jj0fyf8W3kcaddDAS3H52SvrWeJa",
      "authorship_tag": "ABX9TyNLNCqsmwQNpkIfaR6Sesrm",
      "include_colab_link": true
    },
    "kernelspec": {
      "name": "python3",
      "display_name": "Python 3"
    }
  },
  "cells": [
    {
      "cell_type": "markdown",
      "metadata": {
        "id": "view-in-github",
        "colab_type": "text"
      },
      "source": [
        "<a href=\"https://colab.research.google.com/github/Tom-Lennox/Kaggle/blob/master/Pytorch_20200714.ipynb\" target=\"_parent\"><img src=\"https://colab.research.google.com/assets/colab-badge.svg\" alt=\"Open In Colab\"/></a>"
      ]
    },
    {
      "cell_type": "code",
      "metadata": {
        "id": "UygpnoQ9V4YX",
        "colab_type": "code",
        "colab": {}
      },
      "source": [
        "## ▼ これで何ができるのか？を軸に作成すべし。\n",
        "\n",
        "# GPU: 編集>ノートブックの設定\n",
        "\n",
        "# https://pytorch.org/tutorials/beginner/blitz/tensor_tutorial.html#sphx-glr-beginner-blitz-tensor-tutorial-py"
      ],
      "execution_count": null,
      "outputs": []
    },
    {
      "cell_type": "markdown",
      "metadata": {
        "id": "Us5d6aqZaaey",
        "colab_type": "text"
      },
      "source": [
        "# 【行ったこと】\n",
        "\n",
        "## ▼ Pytorch\n",
        "Pytorch = GPUを活用できる計算パッケージ  \n",
        "｜ >> NumPy  \n",
        "\n",
        "|【numpy】|【pytorch】|\n",
        "| :---- | :---- |\n",
        "|ndarray|Tensor|\n",
        "|reshape|view|\n",
        "\n"
      ]
    },
    {
      "cell_type": "code",
      "metadata": {
        "id": "sV7HEZPxaTQF",
        "colab_type": "code",
        "colab": {
          "base_uri": "https://localhost:8080/",
          "height": 514
        },
        "outputId": "31d53fce-7459-4f74-e7ea-00024881801e"
      },
      "source": [
        "from __future__ import print_function\n",
        "import torch\n",
        "\n",
        "## ▼ 初期化されていない\n",
        "x = torch.empty(5, 3)\n",
        "print(x)\n",
        "\n",
        "## ▼ ランダム作れる\n",
        "x = torch.rand(5, 3)\n",
        "print(x)\n",
        "\n",
        "## ▼ ゼロにできる\n",
        "x = torch.zeros(5, 3, dtype=torch.long)\n",
        "print(x)\n",
        "\n",
        "## ▼ 任意の値に書き換えられる\n",
        "x = torch.tensor([5.5, 3])\n",
        "print(x)\n",
        "\n",
        "\n",
        "## ▼ 1もある。 + dyyleが指定できる。\n",
        "x = x.new_ones(5, 3, dtype=torch.double)      # new_* methods take in sizes\n",
        "print(x)\n",
        "\n",
        "## ▼ 正規乱数（正規乱数とは正規分布に従う乱数）も使える\n",
        "x = torch.randn_like(x, dtype=torch.float)    # override dtype!\n",
        "print(x)                                      # result has the same size\n",
        "\n",
        "print(f'x.size(): {x.size()}')\n",
        "\n",
        "# --\n",
        "# 加算・減算は省略。\n",
        "# --\n",
        "\n",
        "print(f'x[:, 1]: {x[:, 1]}')"
      ],
      "execution_count": 1,
      "outputs": [
        {
          "output_type": "stream",
          "text": [
            "tensor([[3.4049e-36, 0.0000e+00, 3.3631e-44],\n",
            "        [0.0000e+00,        nan, 0.0000e+00],\n",
            "        [1.1578e+27, 1.1362e+30, 7.1547e+22],\n",
            "        [4.5828e+30, 1.2121e+04, 7.1846e+22],\n",
            "        [9.2198e-39, 7.0374e+22, 0.0000e+00]])\n",
            "tensor([[0.1130, 0.3878, 0.6677],\n",
            "        [0.6343, 0.7565, 0.2563],\n",
            "        [0.0139, 0.4492, 0.3307],\n",
            "        [0.5117, 0.5592, 0.3279],\n",
            "        [0.9453, 0.1878, 0.6837]])\n",
            "tensor([[0, 0, 0],\n",
            "        [0, 0, 0],\n",
            "        [0, 0, 0],\n",
            "        [0, 0, 0],\n",
            "        [0, 0, 0]])\n",
            "tensor([5.5000, 3.0000])\n",
            "tensor([[1., 1., 1.],\n",
            "        [1., 1., 1.],\n",
            "        [1., 1., 1.],\n",
            "        [1., 1., 1.],\n",
            "        [1., 1., 1.]], dtype=torch.float64)\n",
            "tensor([[-0.2187, -0.1764, -1.4818],\n",
            "        [ 1.2188,  1.8799, -0.4830],\n",
            "        [ 0.0332, -0.2635, -2.7475],\n",
            "        [-0.6588,  0.7260, -0.5204],\n",
            "        [ 0.3089,  1.5760,  0.1252]])\n",
            "x.size(): torch.Size([5, 3])\n",
            "x[:, 1]: tensor([-0.1764,  1.8799, -0.2635,  0.7260,  1.5760])\n"
          ],
          "name": "stdout"
        }
      ]
    },
    {
      "cell_type": "code",
      "metadata": {
        "id": "2Z572k7Ihg1j",
        "colab_type": "code",
        "colab": {
          "base_uri": "https://localhost:8080/",
          "height": 798
        },
        "outputId": "4210df9a-495e-4e63-901b-7fad53bfe2c4"
      },
      "source": [
        "x = torch.rand(5, 3)\n",
        "print(x)\n",
        "print('--')\n",
        "y = torch.rand(5, 3)\n",
        "print(y)\n",
        "print('--')\n",
        "print(x + y)\n",
        "print('--')\n",
        "print('\\n--\\n', torch.add(x, y))ｗ\n",
        "\n",
        "print('## ▼ torch.add(x, y)')\n",
        "print(torch.add(x, y))\n",
        "\n",
        "## ▼ \n",
        "result = torch.empty(5, 3)\n",
        "print('## ▼ result')\n",
        "print(result)\n",
        "\n",
        "print(x)\n",
        "print(x[:, 0])\n",
        "print(x[0, :])"
      ],
      "execution_count": null,
      "outputs": [
        {
          "output_type": "stream",
          "text": [
            "tensor([[0.0668, 0.7798, 0.5598],\n",
            "        [0.8372, 0.9676, 0.4415],\n",
            "        [0.9175, 0.5123, 0.8637],\n",
            "        [0.6254, 0.8056, 0.6659],\n",
            "        [0.1961, 0.8145, 0.3054]])\n",
            "--\n",
            "tensor([[0.1816, 0.8743, 0.5231],\n",
            "        [0.3299, 0.6653, 0.2165],\n",
            "        [0.4801, 0.4947, 0.0226],\n",
            "        [0.4595, 0.9997, 0.9303],\n",
            "        [0.1785, 0.1962, 0.3352]])\n",
            "--\n",
            "tensor([[0.2484, 1.6541, 1.0829],\n",
            "        [1.1672, 1.6329, 0.6579],\n",
            "        [1.3975, 1.0070, 0.8863],\n",
            "        [1.0849, 1.8053, 1.5962],\n",
            "        [0.3746, 1.0107, 0.6406]])\n",
            "--\n",
            "\n",
            "--\n",
            " tensor([[0.2484, 1.6541, 1.0829],\n",
            "        [1.1672, 1.6329, 0.6579],\n",
            "        [1.3975, 1.0070, 0.8863],\n",
            "        [1.0849, 1.8053, 1.5962],\n",
            "        [0.3746, 1.0107, 0.6406]])\n",
            "## ▼ torch.add(x, y)\n",
            "tensor([[0.2484, 1.6541, 1.0829],\n",
            "        [1.1672, 1.6329, 0.6579],\n",
            "        [1.3975, 1.0070, 0.8863],\n",
            "        [1.0849, 1.8053, 1.5962],\n",
            "        [0.3746, 1.0107, 0.6406]])\n",
            "## ▼ result\n",
            "tensor([[5.3036e-36, 0.0000e+00, 1.0829e+00],\n",
            "        [1.1672e+00, 1.6329e+00, 6.5793e-01],\n",
            "        [1.3975e+00, 1.0070e+00, 8.8634e-01],\n",
            "        [1.0849e+00, 1.8053e+00, 1.5962e+00],\n",
            "        [3.7460e-01, 1.0107e+00, 6.4064e-01]])\n",
            "tensor([[0.0668, 0.7798, 0.5598],\n",
            "        [0.8372, 0.9676, 0.4415],\n",
            "        [0.9175, 0.5123, 0.8637],\n",
            "        [0.6254, 0.8056, 0.6659],\n",
            "        [0.1961, 0.8145, 0.3054]])\n",
            "tensor([0.0668, 0.8372, 0.9175, 0.6254, 0.1961])\n",
            "tensor([0.0668, 0.7798, 0.5598])\n"
          ],
          "name": "stdout"
        }
      ]
    },
    {
      "cell_type": "code",
      "metadata": {
        "id": "WOek1EcDk438",
        "colab_type": "code",
        "colab": {
          "base_uri": "https://localhost:8080/",
          "height": 283
        },
        "outputId": "68402ea4-fbf7-4749-c3f8-dc5d7bdc300c"
      },
      "source": [
        "## ▼ reshape ⇒ view\n",
        "x = torch.randn(4, 4)\n",
        "y = x.view(16)\n",
        "z = x.view(2, 8)\n",
        "print(x)\n",
        "print(y)\n",
        "print(z)\n",
        "\n",
        "## ▼ torch tensor ⇒ numpy\n",
        "a = torch.ones(5)\n",
        "print(a)\n",
        "b = a.numpy()\n",
        "print(b)\n",
        "\n",
        "## ▼ 加算（全て）\n",
        "a.add_(1)\n",
        "print(a)\n",
        "# 自動で変更されるのか。\n",
        "print(b)\n",
        "\n",
        "print('--')\n",
        "## ▼ numby ⇒ torch tensor\n",
        "import numpy as np\n",
        "a = np.ones(5)\n",
        "b = torch.from_numpy(a)\n",
        "np.add(a, 10, out=a)\n",
        "print(a)\n",
        "print(b)\n",
        "\n"
      ],
      "execution_count": 27,
      "outputs": [
        {
          "output_type": "stream",
          "text": [
            "tensor([[ 1.5024, -0.4652, -1.2725, -0.7053],\n",
            "        [ 0.9709, -0.1272,  1.5684,  0.2480],\n",
            "        [ 0.0989, -0.8207, -0.4089, -0.4665],\n",
            "        [-1.2593, -1.3327, -0.2525,  2.0236]])\n",
            "tensor([ 1.5024, -0.4652, -1.2725, -0.7053,  0.9709, -0.1272,  1.5684,  0.2480,\n",
            "         0.0989, -0.8207, -0.4089, -0.4665, -1.2593, -1.3327, -0.2525,  2.0236])\n",
            "tensor([[ 1.5024, -0.4652, -1.2725, -0.7053,  0.9709, -0.1272,  1.5684,  0.2480],\n",
            "        [ 0.0989, -0.8207, -0.4089, -0.4665, -1.2593, -1.3327, -0.2525,  2.0236]])\n",
            "tensor([1., 1., 1., 1., 1.])\n",
            "[1. 1. 1. 1. 1.]\n",
            "tensor([2., 2., 2., 2., 2.])\n",
            "[2. 2. 2. 2. 2.]\n",
            "--\n",
            "[11. 11. 11. 11. 11.]\n",
            "tensor([11., 11., 11., 11., 11.], dtype=torch.float64)\n"
          ],
          "name": "stdout"
        }
      ]
    },
    {
      "cell_type": "code",
      "metadata": {
        "id": "B6BQeygQ9JC3",
        "colab_type": "code",
        "colab": {}
      },
      "source": [
        "## ▼ [must] GPU: ON\n",
        "# if torch.cuda.is_availiable():\n",
        "if torch.cuda.is_available():\n",
        "    print('--')\n",
        "# let us run this cell only if CUDA is available\n",
        "# We will use ``torch.device`` objects to move tensors in and out of GPU\n",
        "if torch.cuda.is_available():\n",
        "    device = torch.device(\"cuda\")          # a CUDA device object\n",
        "    y = torch.ones_like(x, device=device)  # directly create a tensor on GPU\n",
        "    x = x.to(device)                       # or just use strings ``.to(\"cuda\")``\n",
        "    z = x + y\n",
        "    print(z)\n",
        "    print(z.to(\"cpu\", torch.double))       # ``.to`` can also change dtype together!"
      ],
      "execution_count": 32,
      "outputs": []
    }
  ]
}