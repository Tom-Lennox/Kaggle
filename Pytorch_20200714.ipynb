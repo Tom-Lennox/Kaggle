{
  "nbformat": 4,
  "nbformat_minor": 0,
  "metadata": {
    "colab": {
      "name": "Pytorch_20200714",
      "provenance": [],
      "collapsed_sections": [],
      "mount_file_id": "1Nr_9jj0fyf8W3kcaddDAS3H52SvrWeJa",
      "authorship_tag": "ABX9TyPz1VMw81W9Bso+ephh0gbw",
      "include_colab_link": true
    },
    "kernelspec": {
      "name": "python3",
      "display_name": "Python 3"
    },
    "accelerator": "GPU"
  },
  "cells": [
    {
      "cell_type": "markdown",
      "metadata": {
        "id": "view-in-github",
        "colab_type": "text"
      },
      "source": [
        "<a href=\"https://colab.research.google.com/github/Tom-Lennox/Kaggle/blob/master/Pytorch_20200714.ipynb\" target=\"_parent\"><img src=\"https://colab.research.google.com/assets/colab-badge.svg\" alt=\"Open In Colab\"/></a>"
      ]
    },
    {
      "cell_type": "code",
      "metadata": {
        "id": "UygpnoQ9V4YX",
        "colab_type": "code",
        "colab": {}
      },
      "source": [
        "# 【行ったこと】\n",
        "\n",
        "## ▼ Pytorch\n",
        "# Pytorch = GPUを活用できる計算パッケージ\n",
        "# ｜ >> NumPy"
      ],
      "execution_count": null,
      "outputs": []
    }
  ]
}