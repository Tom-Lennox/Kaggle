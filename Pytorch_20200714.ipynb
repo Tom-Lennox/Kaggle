{
  "nbformat": 4,
  "nbformat_minor": 0,
  "metadata": {
    "colab": {
      "name": "Pytorch_20200714",
      "provenance": [],
      "collapsed_sections": [],
      "mount_file_id": "1Nr_9jj0fyf8W3kcaddDAS3H52SvrWeJa",
      "authorship_tag": "ABX9TyMBQKUSz2AvbwMaZfQV30QO",
      "include_colab_link": true
    },
    "kernelspec": {
      "name": "python3",
      "display_name": "Python 3"
    },
    "accelerator": "GPU"
  },
  "cells": [
    {
      "cell_type": "markdown",
      "metadata": {
        "id": "view-in-github",
        "colab_type": "text"
      },
      "source": [
        "<a href=\"https://colab.research.google.com/github/Tom-Lennox/Kaggle/blob/master/Pytorch_20200714.ipynb\" target=\"_parent\"><img src=\"https://colab.research.google.com/assets/colab-badge.svg\" alt=\"Open In Colab\"/></a>"
      ]
    },
    {
      "cell_type": "code",
      "metadata": {
        "id": "UygpnoQ9V4YX",
        "colab_type": "code",
        "colab": {}
      },
      "source": [
        "## ▼ これで何ができるのか？を軸に作成すべし。\n"
      ],
      "execution_count": null,
      "outputs": []
    },
    {
      "cell_type": "markdown",
      "metadata": {
        "id": "Us5d6aqZaaey",
        "colab_type": "text"
      },
      "source": [
        "# 【行ったこと】\n",
        "\n",
        "## ▼ Pytorch\n",
        "Pytorch = GPUを活用できる計算パッケージ  \n",
        "｜ >> NumPy  \n",
        "\n",
        "|【numpy】|【pytorch】|\n",
        "| :---- | :---- |\n",
        "|ndarray|Tensor|\n"
      ]
    },
    {
      "cell_type": "code",
      "metadata": {
        "id": "sV7HEZPxaTQF",
        "colab_type": "code",
        "colab": {
          "base_uri": "https://localhost:8080/",
          "height": 497
        },
        "outputId": "15513c9c-c569-4bcc-a1cf-66c8c79c5cca"
      },
      "source": [
        "from __future__ import print_function\n",
        "import torch\n",
        "\n",
        "x = torch.empty(5, 3)\n",
        "print(x)\n",
        "\n",
        "## ▼ ランダム作れる\n",
        "x = torch.rand(5, 3)\n",
        "print(x)\n",
        "\n",
        "## ▼ ゼロにできる\n",
        "x = torch.zeros(5, 3, dtype=torch.long)\n",
        "print(x)\n",
        "\n",
        "## ▼ 任意の値に書き換えられる\n",
        "x = torch.tensor([5.5, 3])\n",
        "print(x)\n",
        "\n",
        "\n",
        "## ▼ 1もある。 + dyyleが指定できる。\n",
        "x = x.new_ones(5, 3, dtype=torch.double)      # new_* methods take in sizes\n",
        "print(x)\n",
        "\n",
        "## ▼ 正規乱数（正規乱数とは正規分布に従う乱数）も使える\n",
        "x = torch.randn_like(x, dtype=torch.float)    # override dtype!\n",
        "print(x)                                      # result has the same size\n",
        "\n",
        "print(f'x.size(): {x.size()}')"
      ],
      "execution_count": 5,
      "outputs": [
        {
          "output_type": "stream",
          "text": [
            "tensor([[1.8934e-35, 0.0000e+00, 3.3631e-44],\n",
            "        [0.0000e+00,        nan, 0.0000e+00],\n",
            "        [4.4721e+21, 1.5956e+25, 4.7399e+16],\n",
            "        [3.7293e-08, 5.0063e-01, 8.0322e-01],\n",
            "        [6.6210e-01, 6.1457e-01, 7.6759e-01]])\n",
            "tensor([[0.2258, 0.4634, 0.9396],\n",
            "        [0.3003, 0.6031, 0.1734],\n",
            "        [0.7687, 0.7450, 0.1817],\n",
            "        [0.2335, 0.2789, 0.5666],\n",
            "        [0.7142, 0.3469, 0.3456]])\n",
            "tensor([[0, 0, 0],\n",
            "        [0, 0, 0],\n",
            "        [0, 0, 0],\n",
            "        [0, 0, 0],\n",
            "        [0, 0, 0]])\n",
            "tensor([5.5000, 3.0000])\n",
            "tensor([[1., 1., 1.],\n",
            "        [1., 1., 1.],\n",
            "        [1., 1., 1.],\n",
            "        [1., 1., 1.],\n",
            "        [1., 1., 1.]], dtype=torch.float64)\n",
            "tensor([[ 0.7236, -0.6583,  1.0527],\n",
            "        [-0.7588, -1.0281, -1.4376],\n",
            "        [ 0.3660, -1.0425, -0.6490],\n",
            "        [ 1.1625,  1.1701, -0.3796],\n",
            "        [ 1.1942, -0.8872,  0.6697]])\n",
            "x.size(): torch.Size([5, 3])\n"
          ],
          "name": "stdout"
        }
      ]
    }
  ]
}