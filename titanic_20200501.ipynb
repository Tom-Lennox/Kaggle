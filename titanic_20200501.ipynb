{
  "nbformat": 4,
  "nbformat_minor": 0,
  "metadata": {
    "colab": {
      "name": "titanic_20200501",
      "provenance": [],
      "collapsed_sections": [],
      "include_colab_link": true
    },
    "kernelspec": {
      "display_name": "Python 3",
      "name": "python3"
    }
  },
  "cells": [
    {
      "cell_type": "markdown",
      "metadata": {
        "id": "view-in-github",
        "colab_type": "text"
      },
      "source": [
        "<a href=\"https://colab.research.google.com/github/Tom-Lennox/Kaggle/blob/master/titanic_20200501.ipynb\" target=\"_parent\"><img src=\"https://colab.research.google.com/assets/colab-badge.svg\" alt=\"Open In Colab\"/></a>"
      ]
    },
    {
      "cell_type": "code",
      "metadata": {
        "id": "g7awsi5NqD1r",
        "colab_type": "code",
        "colab": {}
      },
      "source": [
        "# title\n",
        "# 【result_0428】0.65071\n"
      ],
      "execution_count": 0,
      "outputs": []
    },
    {
      "cell_type": "code",
      "metadata": {
        "id": "Vx5YXYCHJNwU",
        "colab_type": "code",
        "outputId": "326f0e05-18c7-418c-80db-59b39640834c",
        "colab": {
          "base_uri": "https://localhost:8080/",
          "height": 427
        }
      },
      "source": [
        "# kaggle APIセット\n",
        "!pip install kaggle\n",
        "\n",
        "from googleapiclient.discovery import build\n",
        "import io, os\n",
        "from googleapiclient.http import MediaIoBaseDownload\n",
        "from google.colab import auth\n",
        "\n",
        "auth.authenticate_user()\n",
        "\n",
        "drive_service = build('drive', 'v3')\n",
        "results = drive_service.files().list(\n",
        "        q=\"name = 'kaggle.json'\", fields=\"files(id)\").execute()\n",
        "kaggle_api_key = results.get('files', [])\n",
        "\n",
        "filename = \"/content/.kaggle/kaggle.json\"\n",
        "os.makedirs(os.path.dirname(filename), exist_ok=True)\n",
        "\n",
        "request = drive_service.files().get_media(fileId=kaggle_api_key[0]['id'])\n",
        "fh = io.FileIO(filename, 'wb')\n",
        "downloader = MediaIoBaseDownload(fh, request)\n",
        "done = False\n",
        "while done is False:\n",
        "    status, done = downloader.next_chunk()\n",
        "    print(\"Download %d%%.\" % int(status.progress() * 100))\n",
        "os.chmod(filename, 600)\n",
        "# 「Download 100%.」と表示で成功。\n",
        "\n",
        "# [kaggle.json]を持参する。\n",
        "from google.colab import drive\n",
        "drive.mount('/content/drive')\n",
        "\n",
        "# jsonファイルを指定の場所に配置\n",
        "!cp /content/.kaggle/kaggle.json ~/.kaggle/kaggle.json\n",
        "# titanicをダウンロードします。\n",
        "!kaggle competitions download -c titanic\n",
        "\n",
        "# jsonファイルを指定の場所に配置\n",
        "!cp /content/.kaggle/kaggle.json ~/.kaggle/kaggle.json\n",
        "# titanicをダウンロードします。\n",
        "!kaggle competitions download -c titanic\n",
        "!ls"
      ],
      "execution_count": 0,
      "outputs": [
        {
          "output_type": "stream",
          "text": [
            "Requirement already satisfied: kaggle in /usr/local/lib/python3.6/dist-packages (1.5.6)\n",
            "Requirement already satisfied: python-slugify in /usr/local/lib/python3.6/dist-packages (from kaggle) (4.0.0)\n",
            "Requirement already satisfied: six>=1.10 in /usr/local/lib/python3.6/dist-packages (from kaggle) (1.12.0)\n",
            "Requirement already satisfied: certifi in /usr/local/lib/python3.6/dist-packages (from kaggle) (2020.4.5.1)\n",
            "Requirement already satisfied: urllib3<1.25,>=1.21.1 in /usr/local/lib/python3.6/dist-packages (from kaggle) (1.24.3)\n",
            "Requirement already satisfied: python-dateutil in /usr/local/lib/python3.6/dist-packages (from kaggle) (2.8.1)\n",
            "Requirement already satisfied: tqdm in /usr/local/lib/python3.6/dist-packages (from kaggle) (4.38.0)\n",
            "Requirement already satisfied: requests in /usr/local/lib/python3.6/dist-packages (from kaggle) (2.23.0)\n",
            "Requirement already satisfied: text-unidecode>=1.3 in /usr/local/lib/python3.6/dist-packages (from python-slugify->kaggle) (1.3)\n",
            "Requirement already satisfied: chardet<4,>=3.0.2 in /usr/local/lib/python3.6/dist-packages (from requests->kaggle) (3.0.4)\n",
            "Requirement already satisfied: idna<3,>=2.5 in /usr/local/lib/python3.6/dist-packages (from requests->kaggle) (2.9)\n",
            "Download 100%.\n",
            "Drive already mounted at /content/drive; to attempt to forcibly remount, call drive.mount(\"/content/drive\", force_remount=True).\n",
            "Warning: Looks like you're using an outdated API Version, please consider updating (server 1.5.6 / client 1.5.4)\n",
            "test.csv: Skipping, found more recently modified local copy (use --force to force download)\n",
            "gender_submission.csv: Skipping, found more recently modified local copy (use --force to force download)\n",
            "train.csv: Skipping, found more recently modified local copy (use --force to force download)\n",
            "Warning: Looks like you're using an outdated API Version, please consider updating (server 1.5.6 / client 1.5.4)\n",
            "test.csv: Skipping, found more recently modified local copy (use --force to force download)\n",
            "train.csv: Skipping, found more recently modified local copy (use --force to force download)\n",
            "gender_submission.csv: Skipping, found more recently modified local copy (use --force to force download)\n",
            "adc.json  drive  gender_submission.csv\tsample_data  test.csv  train.csv\n"
          ],
          "name": "stdout"
        }
      ]
    },
    {
      "cell_type": "code",
      "metadata": {
        "id": "_5W3pHaRPbyM",
        "colab_type": "code",
        "outputId": "b58c5633-0035-4330-e893-8c35ee9a60f0",
        "colab": {
          "base_uri": "https://localhost:8080/",
          "height": 603
        }
      },
      "source": [
        "# ▼ all_data作成\n",
        "import pandas as pd\n",
        "import numpy as np\n",
        "\n",
        "train = pd.read_csv(\"/content/train.csv\")\n",
        "test = pd.read_csv(\"/content/test.csv\")\n",
        "\n",
        "train_x = train.drop(\"Survived\",axis=1)\n",
        "train_y = train[\"Survived\"]\n",
        "test_x = pd.read_csv(\"/content/test.csv\")\n",
        "\n",
        "all_data = pd.concat([train, test], sort=False)\n",
        "\n",
        "# ▲ all_data作成\n",
        "# ▽ info\n",
        "all_data.head()\n",
        "\n",
        "def counter():\n",
        "  print('▼ train:', len(train))\n",
        "  print('▼ test:', len(test))\n",
        "  print('▼ all_data:', len(all_data))\n",
        "counter()\n",
        "\n",
        "print('▼ print(all_data.isnull().sum()[all_data.isnull().sum() > 0])')\n",
        "print(all_data.isnull().sum()[all_data.isnull().sum() > 0])\n",
        "print('▼ info')\n",
        "print(all_data.info())\n",
        "# △ info\n",
        "# ▼ 置換、fillna等\n",
        "\n",
        "# # ohe\n",
        "# all_data = pd.get_dummies(all_data, columns=['Sex'])\n",
        "# all_data\n",
        "# # ohe\n",
        "# map\n",
        "all_data['Sex'].unique().tolist()\n",
        "sex_map = {\"female\":0, \"male\":1}\n",
        "all_data['Sex'] = all_data['Sex'].map(sex_map).astype(int)\n",
        "print('▼ 確認', all_data['Sex'].unique().tolist())\n",
        "# map\n",
        "# ohe, map, カラムを分けるか１つで進むか、どちらが良いかよくわからん。\n",
        "\n",
        "all_data['Embarked'].fillna('None', inplace=True)\n",
        "all_data['Embarked'].unique()\n",
        "all_data['Embarked'].replace(['S', 'C', 'Q', 'None'], [0,1,2,3], inplace=True)\n",
        "all_data['Embarked'].unique()\n",
        "\n",
        "\n",
        "# ▲ 置換、fillna等"
      ],
      "execution_count": 6,
      "outputs": [
        {
          "output_type": "stream",
          "text": [
            "▼ train: 891\n",
            "▼ test: 418\n",
            "▼ all_data: 1309\n",
            "▼ print(all_data.isnull().sum()[all_data.isnull().sum() > 0])\n",
            "Survived     418\n",
            "Age          263\n",
            "Fare           1\n",
            "Cabin       1014\n",
            "Embarked       2\n",
            "dtype: int64\n",
            "▼ info\n",
            "<class 'pandas.core.frame.DataFrame'>\n",
            "Int64Index: 1309 entries, 0 to 417\n",
            "Data columns (total 12 columns):\n",
            " #   Column       Non-Null Count  Dtype  \n",
            "---  ------       --------------  -----  \n",
            " 0   PassengerId  1309 non-null   int64  \n",
            " 1   Survived     891 non-null    float64\n",
            " 2   Pclass       1309 non-null   int64  \n",
            " 3   Name         1309 non-null   object \n",
            " 4   Sex          1309 non-null   object \n",
            " 5   Age          1046 non-null   float64\n",
            " 6   SibSp        1309 non-null   int64  \n",
            " 7   Parch        1309 non-null   int64  \n",
            " 8   Ticket       1309 non-null   object \n",
            " 9   Fare         1308 non-null   float64\n",
            " 10  Cabin        295 non-null    object \n",
            " 11  Embarked     1307 non-null   object \n",
            "dtypes: float64(3), int64(4), object(5)\n",
            "memory usage: 132.9+ KB\n",
            "None\n",
            "▼ 確認 [1, 0]\n"
          ],
          "name": "stdout"
        },
        {
          "output_type": "execute_result",
          "data": {
            "text/plain": [
              "array([0, 1, 2, 3])"
            ]
          },
          "metadata": {
            "tags": []
          },
          "execution_count": 6
        }
      ]
    },
    {
      "cell_type": "code",
      "metadata": {
        "id": "F5D-3HPxOJEE",
        "colab_type": "code",
        "outputId": "b97eb523-d216-4f5c-877a-3c14560f7130",
        "colab": {
          "base_uri": "https://localhost:8080/",
          "height": 296
        }
      },
      "source": [
        "# ▼ 置換、fillna等\n",
        "all_data['Age'].fillna(all_data['Age'].median(), inplace=True)\n",
        "\n",
        "import seaborn as sns\n",
        "all_data['FamilySize'] = all_data['Parch'] + all_data['SibSp'] + 1\n",
        "train['FamilySize'] = all_data['FamilySize'][:len(train)]\n",
        "test['FamilySize'] = all_data['FamilySize'][len(train):]\n",
        "sns.countplot(x='FamilySize', data=train, hue='Survived')\n",
        "# 家族の人数・生存の確認\n",
        "\n",
        "# ▲ 置換、fillna等"
      ],
      "execution_count": 14,
      "outputs": [
        {
          "output_type": "execute_result",
          "data": {
            "text/plain": [
              "<matplotlib.axes._subplots.AxesSubplot at 0x7fcdcc679fd0>"
            ]
          },
          "metadata": {
            "tags": []
          },
          "execution_count": 14
        },
        {
          "output_type": "display_data",
          "data": {
            "image/png": "[encoded data removed]",
            "text/plain": [
              "<Figure size 432x288 with 1 Axes>"
            ]
          },
          "metadata": {
            "tags": [],
            "needs_background": "light"
          }
        }
      ]
    }
  ]
}