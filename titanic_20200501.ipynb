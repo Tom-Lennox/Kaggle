{
  "nbformat": 4,
  "nbformat_minor": 0,
  "metadata": {
    "colab": {
      "name": "titanic_20200501",
      "provenance": [],
      "collapsed_sections": [],
      "include_colab_link": true
    },
    "kernelspec": {
      "display_name": "Python 3",
      "name": "python3"
    }
  },
  "cells": [
    {
      "cell_type": "markdown",
      "metadata": {
        "id": "view-in-github",
        "colab_type": "text"
      },
      "source": [
        "<a href=\"https://colab.research.google.com/github/Tom-Lennox/Kaggle/blob/master/titanic_20200501.ipynb\" target=\"_parent\"><img src=\"https://colab.research.google.com/assets/colab-badge.svg\" alt=\"Open In Colab\"/></a>"
      ]
    },
    {
      "cell_type": "code",
      "metadata": {
        "id": "g7awsi5NqD1r",
        "colab_type": "code",
        "colab": {}
      },
      "source": [
        "# title\n",
        "# 【result_0428】0.65071\n"
      ],
      "execution_count": 0,
      "outputs": []
    },
    {
      "cell_type": "code",
      "metadata": {
        "id": "Vx5YXYCHJNwU",
        "colab_type": "code",
        "outputId": "2187ba0f-1ed4-4c61-c305-4557167c0579",
        "colab": {
          "base_uri": "https://localhost:8080/",
          "height": 694
        }
      },
      "source": [
        "# kaggle APIセット\n",
        "!pip install kaggle\n",
        "\n",
        "from googleapiclient.discovery import build\n",
        "import io, os\n",
        "from googleapiclient.http import MediaIoBaseDownload\n",
        "from google.colab import auth\n",
        "\n",
        "auth.authenticate_user()\n",
        "\n",
        "drive_service = build('drive', 'v3')\n",
        "results = drive_service.files().list(\n",
        "        q=\"name = 'kaggle.json'\", fields=\"files(id)\").execute()\n",
        "kaggle_api_key = results.get('files', [])\n",
        "\n",
        "filename = \"/content/.kaggle/kaggle.json\"\n",
        "os.makedirs(os.path.dirname(filename), exist_ok=True)\n",
        "\n",
        "request = drive_service.files().get_media(fileId=kaggle_api_key[0]['id'])\n",
        "fh = io.FileIO(filename, 'wb')\n",
        "downloader = MediaIoBaseDownload(fh, request)\n",
        "done = False\n",
        "while done is False:\n",
        "    status, done = downloader.next_chunk()\n",
        "    print(\"Download %d%%.\" % int(status.progress() * 100))\n",
        "os.chmod(filename, 600)\n",
        "# 「Download 100%.」と表示で成功。\n",
        "\n",
        "# [kaggle.json]を持参する。\n",
        "from google.colab import drive\n",
        "drive.mount('/content/drive')\n",
        "\n",
        "# jsonファイルを指定の場所に配置\n",
        "!cp /content/.kaggle/kaggle.json ~/.kaggle/kaggle.json\n",
        "# titanicをダウンロードします。\n",
        "!kaggle competitions download -c titanic\n",
        "\n",
        "# jsonファイルを指定の場所に配置\n",
        "!cp /content/.kaggle/kaggle.json ~/.kaggle/kaggle.json\n",
        "# titanicをダウンロードします。\n",
        "!kaggle competitions download -c titanic\n",
        "!ls"
      ],
      "execution_count": 2,
      "outputs": [
        {
          "output_type": "stream",
          "text": [
            "Requirement already satisfied: kaggle in /usr/local/lib/python3.6/dist-packages (1.5.6)\n",
            "Requirement already satisfied: requests in /usr/local/lib/python3.6/dist-packages (from kaggle) (2.23.0)\n",
            "Requirement already satisfied: tqdm in /usr/local/lib/python3.6/dist-packages (from kaggle) (4.38.0)\n",
            "Requirement already satisfied: certifi in /usr/local/lib/python3.6/dist-packages (from kaggle) (2020.4.5.1)\n",
            "Requirement already satisfied: urllib3<1.25,>=1.21.1 in /usr/local/lib/python3.6/dist-packages (from kaggle) (1.24.3)\n",
            "Requirement already satisfied: six>=1.10 in /usr/local/lib/python3.6/dist-packages (from kaggle) (1.12.0)\n",
            "Requirement already satisfied: python-dateutil in /usr/local/lib/python3.6/dist-packages (from kaggle) (2.8.1)\n",
            "Requirement already satisfied: python-slugify in /usr/local/lib/python3.6/dist-packages (from kaggle) (4.0.0)\n",
            "Requirement already satisfied: chardet<4,>=3.0.2 in /usr/local/lib/python3.6/dist-packages (from requests->kaggle) (3.0.4)\n",
            "Requirement already satisfied: idna<3,>=2.5 in /usr/local/lib/python3.6/dist-packages (from requests->kaggle) (2.9)\n",
            "Requirement already satisfied: text-unidecode>=1.3 in /usr/local/lib/python3.6/dist-packages (from python-slugify->kaggle) (1.3)\n",
            "Download 100%.\n",
            "Go to this URL in a browser: https://accounts.google.com/o/oauth2/auth?client_id=947318989803-6bn6qk8qdgf4n4g3pfee6491hc0brc4i.apps.googleusercontent.com&redirect_uri=urn%3aietf%3awg%3aoauth%3a2.0%3aoob&response_type=code&scope=email%20https%3a%2f%2fwww.googleapis.com%2fauth%2fdocs.test%20https%3a%2f%2fwww.googleapis.com%2fauth%2fdrive%20https%3a%2f%2fwww.googleapis.com%2fauth%2fdrive.photos.readonly%20https%3a%2f%2fwww.googleapis.com%2fauth%2fpeopleapi.readonly\n",
            "\n",
            "Enter your authorization code:\n",
            "··········\n",
            "Mounted at /content/drive\n",
            "cp: cannot create regular file '/root/.kaggle/kaggle.json': No such file or directory\n",
            "Traceback (most recent call last):\n",
            "  File \"/usr/local/bin/kaggle\", line 5, in <module>\n",
            "    from kaggle.cli import main\n",
            "  File \"/usr/local/lib/python2.7/dist-packages/kaggle/__init__.py\", line 23, in <module>\n",
            "    api.authenticate()\n",
            "  File \"/usr/local/lib/python2.7/dist-packages/kaggle/api/kaggle_api_extended.py\", line 146, in authenticate\n",
            "    self.config_file, self.config_dir))\n",
            "IOError: Could not find kaggle.json. Make sure it's located in /root/.kaggle. Or use the environment method.\n",
            "Warning: Looks like you're using an outdated API Version, please consider updating (server 1.5.6 / client 1.5.4)\n",
            "Downloading test.csv to /content\n",
            "  0% 0.00/28.0k [00:00<?, ?B/s]\n",
            "100% 28.0k/28.0k [00:00<00:00, 24.8MB/s]\n",
            "Downloading train.csv to /content\n",
            "  0% 0.00/59.8k [00:00<?, ?B/s]\n",
            "100% 59.8k/59.8k [00:00<00:00, 60.2MB/s]\n",
            "Downloading gender_submission.csv to /content\n",
            "  0% 0.00/3.18k [00:00<?, ?B/s]\n",
            "100% 3.18k/3.18k [00:00<00:00, 3.20MB/s]\n",
            "adc.json  drive  gender_submission.csv\tsample_data  test.csv  train.csv\n"
          ],
          "name": "stdout"
        }
      ]
    },
    {
      "cell_type": "code",
      "metadata": {
        "id": "_5W3pHaRPbyM",
        "colab_type": "code",
        "outputId": "40961b1c-1d70-4c2b-9236-a97e4e8d248f",
        "colab": {
          "base_uri": "https://localhost:8080/",
          "height": 904
        }
      },
      "source": [
        "# ▼ データ操作のみ\n",
        "import pandas as pd\n",
        "import numpy as np\n",
        "\n",
        "train = pd.read_csv(\"/content/train.csv\")\n",
        "test = pd.read_csv(\"/content/test.csv\")\n",
        "\n",
        "train_x = train.drop(\"Survived\",axis=1)\n",
        "train_y = train[\"Survived\"]\n",
        "test_x = pd.read_csv(\"/content/test.csv\")\n",
        "\n",
        "all_data = pd.concat([train, test], sort=False)\n",
        "\n",
        "# ▲ all_data作成\n",
        "# ▽ info\n",
        "all_data.head()\n",
        "\n",
        "def counter():\n",
        "  print('▼ train:', len(train))\n",
        "  print('▼ test:', len(test))\n",
        "  print('▼ all_data:', len(all_data))\n",
        "counter()\n",
        "\n",
        "print('▼ print(all_data.isnull().sum()[all_data.isnull().sum() > 0])')\n",
        "print(all_data.isnull().sum()[all_data.isnull().sum() > 0])\n",
        "print('▼ info')\n",
        "print(all_data.info())\n",
        "# △ info\n",
        "# ▼ 置換、fillna等\n",
        "\n",
        "# # ohe\n",
        "# all_data = pd.get_dummies(all_data, columns=['Sex'])\n",
        "# all_data\n",
        "# # ohe\n",
        "# map\n",
        "all_data['Sex'].unique().tolist()\n",
        "sex_map = {\"female\":0, \"male\":1}\n",
        "all_data['Sex'] = all_data['Sex'].map(sex_map).astype(int)\n",
        "print('▼ 確認', all_data['Sex'].unique().tolist())\n",
        "# map\n",
        "# ohe, map, カラムを分けるか１つで進むか、どちらが良いかよくわからん。\n",
        "\n",
        "all_data['Embarked'].fillna('None', inplace=True)\n",
        "all_data['Embarked'].unique()\n",
        "all_data['Embarked'].replace(['S', 'C', 'Q', 'None'], [0,1,2,3], inplace=True)\n",
        "all_data['Embarked'].unique()\n",
        "\n",
        "all_data['Age'].fillna(all_data['Age'].median(), inplace=True)\n",
        "\n",
        "# ■当たっているかどうか見たいとき ⇒ snsで記載。\n",
        "import seaborn as sns\n",
        "all_data['family_size'] = all_data['Parch'] + all_data['SibSp'] + 1\n",
        "train['family_size'] = all_data['family_size'][:len(train)]\n",
        "test['family_size'] = all_data['family_size'][len(train):]\n",
        "sns.countplot(x='family_size', data=train, hue='Survived')\n",
        "# 集計軸：家族の人数・生存の確認\n",
        "all_data['is_alone'] = 0\n",
        "all_data.loc[all_data['family_size'] == 1, 'is_alone'] = 1\n",
        "train['is_alone'] = all_data['is_alone'][:len(train)]\n",
        "test['is_alone'] = all_data['is_alone'][:len(train)]\n",
        "# ▲ \n",
        "\n",
        "# ▲ データ操作のみ"
      ],
      "execution_count": 3,
      "outputs": [
        {
          "output_type": "stream",
          "text": [
            "▼ train: 891\n",
            "▼ test: 418\n",
            "▼ all_data: 1309\n",
            "▼ print(all_data.isnull().sum()[all_data.isnull().sum() > 0])\n",
            "Survived     418\n",
            "Age          263\n",
            "Fare           1\n",
            "Cabin       1014\n",
            "Embarked       2\n",
            "dtype: int64\n",
            "▼ info\n",
            "<class 'pandas.core.frame.DataFrame'>\n",
            "Int64Index: 1309 entries, 0 to 417\n",
            "Data columns (total 12 columns):\n",
            " #   Column       Non-Null Count  Dtype  \n",
            "---  ------       --------------  -----  \n",
            " 0   PassengerId  1309 non-null   int64  \n",
            " 1   Survived     891 non-null    float64\n",
            " 2   Pclass       1309 non-null   int64  \n",
            " 3   Name         1309 non-null   object \n",
            " 4   Sex          1309 non-null   object \n",
            " 5   Age          1046 non-null   float64\n",
            " 6   SibSp        1309 non-null   int64  \n",
            " 7   Parch        1309 non-null   int64  \n",
            " 8   Ticket       1309 non-null   object \n",
            " 9   Fare         1308 non-null   float64\n",
            " 10  Cabin        295 non-null    object \n",
            " 11  Embarked     1307 non-null   object \n",
            "dtypes: float64(3), int64(4), object(5)\n",
            "memory usage: 132.9+ KB\n",
            "None\n",
            "▼ 確認 [1, 0]\n"
          ],
          "name": "stdout"
        },
        {
          "output_type": "stream",
          "text": [
            "/usr/local/lib/python3.6/dist-packages/statsmodels/tools/_testing.py:19: FutureWarning: pandas.util.testing is deprecated. Use the functions in the public API at pandas.testing instead.\n",
            "  import pandas.util.testing as tm\n"
          ],
          "name": "stderr"
        },
        {
          "output_type": "display_data",
          "data": {
            "image/png": "[encoded data removed]",
            "text/plain": [
              "<Figure size 432x288 with 1 Axes>"
            ]
          },
          "metadata": {
            "tags": [],
            "needs_background": "light"
          }
        }
      ]
    },
    {
      "cell_type": "code",
      "metadata": {
        "id": "F5D-3HPxOJEE",
        "colab_type": "code",
        "outputId": "cee5c287-6ae8-4f8b-9ef0-ae5923976c6c",
        "colab": {
          "base_uri": "https://localhost:8080/",
          "height": 278
        }
      },
      "source": [
        "# ▼ LogisticRegression、RandomForestClassifier　の操作\n",
        "\n",
        "import pandas as pd\n",
        "import numpy as np\n",
        "\n",
        "train = pd.read_csv(\"/content/train.csv\")\n",
        "test = pd.read_csv(\"/content/test.csv\")\n",
        "gender_submission = pd.read_csv(\"/content/gender_submission.csv\")\n",
        "\n",
        "data = pd.concat([train, test], sort=False)\n",
        "\n",
        "# 特徴量エンジニアリング\n",
        "# 1. Pclass\n",
        "# 2. Sex\n",
        "data['Sex'].replace(['male','female'], [0, 1], inplace=True)\n",
        "# 3. Embarked\n",
        "data['Embarked'].fillna(('S'), inplace=True)\n",
        "data['Embarked'] = data['Embarked'].map( {'S': 0, 'C': 1, 'Q': 2} ).astype(int)\n",
        "# 4. Fare\n",
        "data['Fare'].fillna(np.mean(data['Fare']), inplace=True)\n",
        "# 5. Age\n",
        "age_avg = data['Age'].mean()\n",
        "age_std = data['Age'].std()\n",
        "# add\n",
        "import seaborn as sns\n",
        "data['FamilySize'] = data['Parch'] + data['SibSp'] + 1\n",
        "train['FamilySize'] = data['FamilySize'][:len(train)]\n",
        "test['FamilySize'] = data['FamilySize'][len(train):]\n",
        "sns.countplot(x='FamilySize', data=train, hue='Survived')\n",
        "\n",
        "data['IsAlone'] = 0\n",
        "data.loc[data['FamilySize'] == 1, 'IsAlone'] = 1\n",
        "train['IsAlone'] = data['IsAlone'][:len(train)]\n",
        "test['IsAlone'] = data['IsAlone'][len(train):]\n",
        "\n",
        "# data['Age'].fillna(np.random.randint(age_avg - age_std, age_avg + age_std), inplace=True)\n",
        "data['Age'].fillna(data['Age'].median(), inplace=True)\n",
        "delete_columns = ['Name', 'PassengerId', 'SibSp', 'Parch', 'Ticket', 'Cabin']\n",
        "data.drop(delete_columns, axis=1, inplace=True)\n",
        "train = data[:len(train)]\n",
        "test = data[len(train):]\n",
        "y_train = train['Survived']\n",
        "X_train = train.drop('Survived', axis = 1)\n",
        "X_test = test.drop('Survived', axis = 1)\n",
        "\n",
        "# # 機械学習アルゴリズム\n",
        "# from sklearn.linear_model import LogisticRegression\n",
        "# clf = LogisticRegression(penalty='l2', solver='sag', random_state=0)\n",
        "# # seed固定\n",
        "# clf.fit(X_train, y_train)\n",
        "# y_pred = clf.predict(X_test)\n",
        "# y_pred[:20]\n",
        "# # ロジシスティック回帰\n",
        "\n",
        "from sklearn.ensemble import RandomForestClassifier\n",
        "clf = RandomForestClassifier(n_estimators=100, max_depth=2, random_state=0)\n",
        "clf.fit(X_train, y_train)\n",
        "y_pred = clf.predict(X_test)\n",
        "# RandomForestClassifier\n",
        "\n",
        "sub = gender_submission\n",
        "sub['Survived'] = list(map(int, y_pred))\n",
        "sub.to_csv(\"submission.csv\", index=False)\n",
        "\n",
        "# X_test\n",
        "# y_pred\n",
        "# submission = pd.DataFrame({\n",
        "#   \"PassengerId\": X_test[\"PassengerId\"],\n",
        "#   \"Survived\": y_pred\n",
        "# })\n",
        "# submission.to_csv('result.csv', index=False)     \n",
        "# files.download('result.csv')\n",
        "\n",
        "# ▲ LogisticRegression、RandomForestClassifier　の操作"
      ],
      "execution_count": 4,
      "outputs": [
        {
          "output_type": "display_data",
          "data": {
            "image/png": "[encoded data removed]",
            "text/plain": [
              "<Figure size 432x288 with 1 Axes>"
            ]
          },
          "metadata": {
            "tags": [],
            "needs_background": "light"
          }
        }
      ]
    },
    {
      "cell_type": "code",
      "metadata": {
        "id": "4SI_8gzkNXAE",
        "colab_type": "code",
        "colab": {
          "base_uri": "https://localhost:8080/",
          "height": 70
        },
        "outputId": "9265d120-8026-4cdb-d117-b9d996a0a278"
      },
      "source": [
        "# kaggle submit\n",
        "!kaggle competitions submit titanic -f submission.csv -m \"test\""
      ],
      "execution_count": 5,
      "outputs": [
        {
          "output_type": "stream",
          "text": [
            "Warning: Looks like you're using an outdated API Version, please consider updating (server 1.5.6 / client 1.5.4)\n",
            "100% 2.77k/2.77k [00:11<00:00, 254B/s]\n",
            "Successfully submitted to Titanic: Machine Learning from Disaster"
          ],
          "name": "stdout"
        }
      ]
    }
  ]
}